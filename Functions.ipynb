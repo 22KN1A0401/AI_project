{
  "nbformat": 4,
  "nbformat_minor": 0,
  "metadata": {
    "colab": {
      "provenance": [],
      "authorship_tag": "ABX9TyOcNL9UDkjNPnsk9frpmMt3",
      "include_colab_link": true
    },
    "kernelspec": {
      "name": "python3",
      "display_name": "Python 3"
    },
    "language_info": {
      "name": "python"
    }
  },
  "cells": [
    {
      "cell_type": "markdown",
      "metadata": {
        "id": "view-in-github",
        "colab_type": "text"
      },
      "source": [
        "<a href=\"https://colab.research.google.com/github/22KN1A0401/AI_project/blob/main/Functions.ipynb\" target=\"_parent\"><img src=\"https://colab.research.google.com/assets/colab-badge.svg\" alt=\"Open In Colab\"/></a>"
      ]
    },
    {
      "cell_type": "code",
      "execution_count": null,
      "metadata": {
        "id": "ZPEgB0GHh6XF"
      },
      "outputs": [],
      "source": []
    },
    {
      "cell_type": "code",
      "source": [
        "#Recursions:Function calling itself without any condition"
      ],
      "metadata": {
        "id": "u20RRYA8iCTh"
      },
      "execution_count": null,
      "outputs": []
    },
    {
      "cell_type": "code",
      "source": [
        "#Linear / Head Recursion\n",
        "def headrec(n):\n",
        "  if n==0:\n",
        "    return\n",
        "  return headrec(n-1)\n",
        "  print(n)\n",
        "\n",
        "\n",
        "n=int(input(\"enter the number:\"))\n",
        "headrec(n)\n"
      ],
      "metadata": {
        "colab": {
          "base_uri": "https://localhost:8080/"
        },
        "id": "K_vim668iCWX",
        "outputId": "9cf2e79d-b7be-4519-86db-62cd3f2ef44f"
      },
      "execution_count": null,
      "outputs": [
        {
          "name": "stdout",
          "output_type": "stream",
          "text": [
            "enter the number:5\n"
          ]
        }
      ]
    },
    {
      "cell_type": "code",
      "source": [
        "def headrec(n):\n",
        "  if n==0:\n",
        "    return\n",
        "  print(n)\n",
        "  headrec(n-1)\n",
        "n=int(input(\"enter the number:\"))\n",
        "headrec(n)"
      ],
      "metadata": {
        "colab": {
          "base_uri": "https://localhost:8080/"
        },
        "id": "0YiC7l8PiCZg",
        "outputId": "e8a4f58c-6d5f-4bba-d090-33ec891f218c"
      },
      "execution_count": null,
      "outputs": [
        {
          "output_type": "stream",
          "name": "stdout",
          "text": [
            "enter the number:5\n",
            "5\n",
            "4\n",
            "3\n",
            "2\n",
            "1\n"
          ]
        }
      ]
    },
    {
      "cell_type": "code",
      "source": [
        "#Linear Recursion factorial\n",
        "def fact(n):\n",
        "  if n==1:\n",
        "    return 1\n",
        "  return n*fact(n-1)\n",
        "num=int(input(\"enter the num:\"))\n",
        "print(f\"Factorial of {num} is {fact(num)}\")"
      ],
      "metadata": {
        "colab": {
          "base_uri": "https://localhost:8080/"
        },
        "id": "6SLWUeYOiCdH",
        "outputId": "bf61af7d-48e6-42de-c7a3-da22c569239d"
      },
      "execution_count": null,
      "outputs": [
        {
          "output_type": "stream",
          "name": "stdout",
          "text": [
            "enter the num:5\n",
            "Factorial of 5 is 120\n"
          ]
        }
      ]
    },
    {
      "cell_type": "code",
      "source": [
        "#Linear Recursion factoria\n",
        "def summ(n):\n",
        "  if n==0:\n",
        "    return 0 # Changed from return to return 0\n",
        "  return n+summ(n-1)\n",
        "num=int(input(\"enter the num:\"))\n",
        "print(f\"Sum of {num} numbers is {summ(num)}\")"
      ],
      "metadata": {
        "id": "o5VhvrgdnLh6",
        "colab": {
          "base_uri": "https://localhost:8080/"
        },
        "outputId": "205135ff-6265-44f9-c178-06d297fdc687"
      },
      "execution_count": null,
      "outputs": [
        {
          "output_type": "stream",
          "name": "stdout",
          "text": [
            "enter the num:5\n",
            "Sum of 5 numbers is 15\n"
          ]
        }
      ]
    },
    {
      "cell_type": "code",
      "source": [
        "#Indirect Recursion\n",
        "def one(n):\n",
        "  if n>0:\n",
        "    print(\"one:\",n)\n",
        "    two(n-1)\n",
        "  if two>0:\n",
        "    print(\"two:\",n)\n",
        "    one(n)\n",
        "\n",
        "\n",
        "num=int(input(\"enter the num:\"))\n",
        "one(num)\n"
      ],
      "metadata": {
        "id": "tgd5sq9MnLk0",
        "colab": {
          "base_uri": "https://localhost:8080/"
        },
        "outputId": "477bf49e-1cfc-4329-d152-092221a6678e"
      },
      "execution_count": null,
      "outputs": [
        {
          "output_type": "stream",
          "name": "stdout",
          "text": [
            "enter the num:5\n",
            "Sum of numbers is 5\n"
          ]
        }
      ]
    },
    {
      "cell_type": "code",
      "source": [
        "#Even Odd using Indirect Recursive Functions\n",
        "num=int(input(\"enter the num:\"))\n",
        "def even(n):\n",
        "  if n==0:\n",
        "    return 'Even'\n",
        "  return odd(n-1)\n",
        "def odd(n):\n",
        "  if n==0:\n",
        "    return 'Odd'\n",
        "  return even(n-1)\n",
        "print(even(num))"
      ],
      "metadata": {
        "id": "u_9u_ctZnLoI",
        "colab": {
          "base_uri": "https://localhost:8080/"
        },
        "outputId": "f9594a88-806a-42e6-ca22-8bbfb8daefdf"
      },
      "execution_count": null,
      "outputs": [
        {
          "output_type": "stream",
          "name": "stdout",
          "text": [
            "enter the num:4\n",
            "Even\n"
          ]
        }
      ]
    },
    {
      "cell_type": "code",
      "source": [
        "def tree(n):\n",
        "  if n<=0:\n",
        "    return\n",
        "  print(n)\n",
        "  tree(n-1)\n",
        "  tree(n-2)\n",
        "tree(3)\n"
      ],
      "metadata": {
        "id": "qBcl0LaxnLrP",
        "colab": {
          "base_uri": "https://localhost:8080/"
        },
        "outputId": "12336998-7a7c-4e8e-8e24-285110bb225b"
      },
      "execution_count": null,
      "outputs": [
        {
          "output_type": "stream",
          "name": "stdout",
          "text": [
            "3\n",
            "2\n",
            "1\n",
            "1\n"
          ]
        }
      ]
    },
    {
      "cell_type": "code",
      "source": [
        "def nest(n):\n",
        "  if n >= 10:\n",
        "    return n - 1\n",
        "  result=nest(n + 2)\n",
        "  return nest(result)\n",
        "\n",
        "print(nest(11))"
      ],
      "metadata": {
        "id": "UADMrJJL476T",
        "colab": {
          "base_uri": "https://localhost:8080/"
        },
        "outputId": "ae30048e-3350-4fe1-e55c-e69adbf3952a"
      },
      "execution_count": 46,
      "outputs": [
        {
          "output_type": "stream",
          "name": "stdout",
          "text": [
            "10\n"
          ]
        }
      ]
    },
    {
      "cell_type": "code",
      "source": [],
      "metadata": {
        "id": "Prwr-w_c82do"
      },
      "execution_count": null,
      "outputs": []
    }
  ]
}